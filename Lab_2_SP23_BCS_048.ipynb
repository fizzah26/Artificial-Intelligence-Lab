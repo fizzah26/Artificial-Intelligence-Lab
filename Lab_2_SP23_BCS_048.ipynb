{
  "nbformat": 4,
  "nbformat_minor": 0,
  "metadata": {
    "colab": {
      "provenance": []
    },
    "kernelspec": {
      "name": "python3",
      "display_name": "Python 3"
    },
    "language_info": {
      "name": "python"
    }
  },
  "cells": [
    {
      "cell_type": "markdown",
      "source": [
        "#Activity 1"
      ],
      "metadata": {
        "id": "z69mx70zjU76"
      }
    },
    {
      "cell_type": "code",
      "source": [
        "list1=[]\n",
        "list2=[]\n",
        "list3=[]\n",
        "print(\"enter 4 values for list 1\")\n",
        "for i in range(4):\n",
        "  a=int(input())\n",
        "  list1.append(a)\n",
        "print(\"enter 4 values for list 2\")\n",
        "for i in range(4):\n",
        "  b=int(input())\n",
        "  list2.append(b)\n",
        "list3=list1+ list2\n",
        "print(list3)\n",
        "\n"
      ],
      "metadata": {
        "colab": {
          "base_uri": "https://localhost:8080/"
        },
        "id": "vJrpjHuXjdZo",
        "outputId": "af92c6df-2d21-4094-8c0f-acaaf5c2a3ed"
      },
      "execution_count": 9,
      "outputs": [
        {
          "output_type": "stream",
          "name": "stdout",
          "text": [
            "enter 4 values for list 1\n",
            "1\n",
            "2\n",
            "3\n",
            "4\n",
            "enter 4 values for list 2\n",
            "5\n",
            "6\n",
            "7\n",
            "8\n",
            "[1, 2, 3, 4, 5, 6, 7, 8]\n"
          ]
        }
      ]
    },
    {
      "cell_type": "markdown",
      "source": [
        "#Activity 2"
      ],
      "metadata": {
        "id": "u5tG2RR5sDVO"
      }
    },
    {
      "cell_type": "code",
      "source": [
        "def isPallindrome(word):\n",
        "  temp=word[::-1]\n",
        "  if temp.capitalize()==word.capitalize():\n",
        "    return True\n",
        "  else:\n",
        "    return False\n",
        "word=input(\"enter a word: \")\n",
        "print(isPallindrome(word))"
      ],
      "metadata": {
        "colab": {
          "base_uri": "https://localhost:8080/"
        },
        "id": "NpwrkpNOsF7t",
        "outputId": "7daa5256-a099-4960-ad32-c377da4297a3"
      },
      "execution_count": 12,
      "outputs": [
        {
          "output_type": "stream",
          "name": "stdout",
          "text": [
            "enter a word: mom\n",
            "True\n"
          ]
        }
      ]
    },
    {
      "cell_type": "markdown",
      "source": [
        "#Activity 3"
      ],
      "metadata": {
        "id": "CBGHJXaSuFqD"
      }
    },
    {
      "cell_type": "code",
      "source": [
        "a=[[1,0,0],[0,1,0],[0,0,1]]\n",
        "b=[[1,2,3],[4,5,6],[7,8,9]]\n",
        "c=[]\n",
        "for inrow in range(3):\n",
        "  c.append ([])\n",
        "  for incol in range(3):\n",
        "    c[inrow].append(0)\n",
        "    for inmid in range(3):\n",
        "      c[inrow][incol]+=a[inrow][inmid]*b[inmid][incol]\n",
        "print(c)"
      ],
      "metadata": {
        "colab": {
          "base_uri": "https://localhost:8080/"
        },
        "id": "9IlEVLYxuIMm",
        "outputId": "5091d125-cc8a-4ca0-c69c-4337d4364a4f"
      },
      "execution_count": 15,
      "outputs": [
        {
          "output_type": "stream",
          "name": "stdout",
          "text": [
            "[[1, 2, 3], [4, 5, 6], [7, 8, 9]]\n"
          ]
        }
      ]
    },
    {
      "cell_type": "markdown",
      "source": [
        "#Activity 4"
      ],
      "metadata": {
        "id": "6XlSKv4jvmpz"
      }
    },
    {
      "cell_type": "code",
      "source": [
        "def perimeter(listing):\n",
        "  leng=len(listing)\n",
        "  perimeter=0;\n",
        "  for i in range(0,leng-1):\n",
        "    dist=(((listing[i][0] - listing[i+1][0])**2)+((listing[i][1] - listing[i+1][1])**2))**0.5\n",
        "    perimeter=perimeter +dist\n",
        "  perimeter=perimeter +(((listing[0][0] - listing[leng-1][0])**2)+((listing[0][1] - listing[leng-1][1])**2))**0.5\n",
        "  return perimeter\n",
        "L=[(1,3),(2,7),(3,9),(-1,8)]\n",
        "print(perimeter(L))\n",
        ""
      ],
      "metadata": {
        "colab": {
          "base_uri": "https://localhost:8080/"
        },
        "id": "vv7O6mMTvpVz",
        "outputId": "62ac57de-8b8c-4bf5-906e-5475f5d0a60d"
      },
      "execution_count": 16,
      "outputs": [
        {
          "output_type": "stream",
          "name": "stdout",
          "text": [
            "15.867444035869614\n"
          ]
        }
      ]
    },
    {
      "cell_type": "markdown",
      "source": [
        "#Activity 5"
      ],
      "metadata": {
        "id": "CbaautKKzK_m"
      }
    },
    {
      "cell_type": "code",
      "source": [
        "def symmetric_difference(A, B):\n",
        "    C = []\n",
        "\n",
        "    for item in A:\n",
        "        if item not in B:\n",
        "            C.append(item)\n",
        "\n",
        "    for item in B:\n",
        "        if item not in A:\n",
        "            C.append(item)\n",
        "\n",
        "    return set(C)\n",
        "\n",
        "\n",
        "A = {1, 2, 3, 4}\n",
        "B = {3, 4, 5, 6}\n",
        "\n",
        "C = symmetric_difference(A, B)\n",
        "print(\"Custom Symmetric Difference:\", C)\n",
        "\n",
        "print(\"A.symmetric_difference(B):\", A.symmetric_difference(B))\n",
        "print(\"B.symmetric_difference(A):\", B.symmetric_difference(A))\n",
        "print(\"A ^ B:\", A ^ B)\n",
        "print(\"B ^ A:\", B ^ A)\n"
      ],
      "metadata": {
        "colab": {
          "base_uri": "https://localhost:8080/"
        },
        "id": "fqt5gBnwzMvc",
        "outputId": "fbee1d20-bd4d-4a82-ec4a-7959f3d7dd86"
      },
      "execution_count": 17,
      "outputs": [
        {
          "output_type": "stream",
          "name": "stdout",
          "text": [
            "Custom Symmetric Difference: {1, 2, 5, 6}\n",
            "A.symmetric_difference(B): {1, 2, 5, 6}\n",
            "B.symmetric_difference(A): {1, 2, 5, 6}\n",
            "A ^ B: {1, 2, 5, 6}\n",
            "B ^ A: {1, 2, 5, 6}\n"
          ]
        }
      ]
    },
    {
      "cell_type": "markdown",
      "source": [
        "#Activity 6"
      ],
      "metadata": {
        "id": "66tYgmdMzkSd"
      }
    },
    {
      "cell_type": "code",
      "source": [
        "phone_book = {\n",
        "    (\"John\", \"Doe\"): \"123-456-7890\",\n",
        "    (\"Jane\", \"Smith\"): \"987-654-3210\",\n",
        "    (\"Alice\", \"Johnson\"): \"555-123-4567\"\n",
        "}\n",
        "\n",
        "first_name = input(\"Enter first name: \")\n",
        "first_name=first_name.capitalize()\n",
        "last_name = input(\"Enter last name: \")\n",
        "last_name=last_name.capitalize()\n",
        "\n",
        "key = (first_name, last_name)\n",
        "\n",
        "if key in phone_book:\n",
        "    print(\"Phone number:\",{phone_book[key]})\n",
        "else:\n",
        "    print(\"Name not found in the phone book.\")"
      ],
      "metadata": {
        "colab": {
          "base_uri": "https://localhost:8080/"
        },
        "id": "wyTNGOxGzmUT",
        "outputId": "1b7d0106-61dc-4cde-d869-464e6e8fcd99"
      },
      "execution_count": 25,
      "outputs": [
        {
          "output_type": "stream",
          "name": "stdout",
          "text": [
            "Enter first name: jane\n",
            "Enter last name: smith\n",
            "Phone number: {'987-654-3210'}\n"
          ]
        }
      ]
    },
    {
      "cell_type": "markdown",
      "source": [
        "#Task 1"
      ],
      "metadata": {
        "id": "spz0gIoh6wTU"
      }
    },
    {
      "cell_type": "code",
      "source": [
        "# Get user input for both lists\n",
        "list1 = list(map(int, input(\"Enter numbers for the first list (space-separated): \").strip().split()))\n",
        "list2 = list(map(int, input(\"Enter numbers for the second list (space-separated): \").strip().split()))\n",
        "\n",
        "# Merge the lists\n",
        "merged_list = list1 + list2\n",
        "\n",
        "# Sort the merged list\n",
        "sorted_list = sorted(merged_list)\n",
        "\n",
        "# Display the sorted merged list\n",
        "print(\"Sorted merged list:\", sorted_list)\n"
      ],
      "metadata": {
        "colab": {
          "base_uri": "https://localhost:8080/"
        },
        "id": "riYgFi7r6zIa",
        "outputId": "79e3abfd-122e-4796-c8f5-de016ae55502"
      },
      "execution_count": 27,
      "outputs": [
        {
          "output_type": "stream",
          "name": "stdout",
          "text": [
            "Enter numbers for the first list (space-separated): 8 1 3 4\n",
            "Enter numbers for the second list (space-separated): 9 2 7 6\n",
            "Sorted merged list: [1, 2, 3, 4, 6, 7, 8, 9]\n"
          ]
        }
      ]
    },
    {
      "cell_type": "markdown",
      "source": [
        "#Task 2"
      ],
      "metadata": {
        "id": "PDzdUupC_IK5"
      }
    },
    {
      "cell_type": "code",
      "source": [
        "# Get user input for both lists\n",
        "list1 = list(map(int, input(\"Enter numbers for the first list (space-separated): \").strip().split()))\n",
        "list2 = list(map(int, input(\"Enter numbers for the second list (space-separated): \").strip().split()))\n",
        "\n",
        "# Merge the lists\n",
        "merged_list = list1 + list2\n",
        "\n",
        "# Sort the merged list\n",
        "sorted_list = sorted(merged_list)\n",
        "\n",
        "# Display the sorted merged list\n",
        "print(\"Sorted merged list:\", sorted_list)\n",
        "\n",
        "# Find the smallest and largest elements\n",
        "smallest = min(sorted_list)\n",
        "largest = max(sorted_list)\n",
        "\n",
        "# Display the smallest and largest elements\n",
        "print(\"Smallest element:\", smallest)\n",
        "print(\"Largest element:\", largest)\n"
      ],
      "metadata": {
        "colab": {
          "base_uri": "https://localhost:8080/"
        },
        "id": "_tSn3i6w_JxK",
        "outputId": "e3d40991-6144-4420-c786-b07c088ffaef"
      },
      "execution_count": 28,
      "outputs": [
        {
          "output_type": "stream",
          "name": "stdout",
          "text": [
            "Enter numbers for the first list (space-separated): 9 3 4 2\n",
            "Enter numbers for the second list (space-separated): 15 7 1 6\n",
            "Sorted merged list: [1, 2, 3, 4, 6, 7, 9, 15]\n",
            "Smallest element: 1\n",
            "Largest element: 15\n"
          ]
        }
      ]
    },
    {
      "cell_type": "markdown",
      "source": [
        "#Task 4"
      ],
      "metadata": {
        "id": "9tRYC9dOF9d4"
      }
    },
    {
      "cell_type": "code",
      "source": [
        "# Define a dictionary with names and birthdays\n",
        "birthdays = {\n",
        "    \"Albert Einstein\": \"03/14/1879\",\n",
        "    \"Benjamin Franklin\": \"01/17/1706\",\n",
        "    \"Ada Lovelace\": \"12/10/1815\"\n",
        "}\n",
        "\n",
        "# Display available names\n",
        "print(\"Welcome to the birthday dictionary. We know the birthdays of:\")\n",
        "for name in birthdays:\n",
        "    print(name)\n",
        "\n",
        "# Get user input\n",
        "name = input(\"Who's birthday do you want to look up? \")\n",
        "\n",
        "\n",
        "# Search and display the birthday\n",
        "if name in birthdays:\n",
        "    print(name,\" birthday is \" ,birthdays[name])\n",
        "else:\n",
        "    print(\"Sorry, we don't have that information.\")\n"
      ],
      "metadata": {
        "colab": {
          "base_uri": "https://localhost:8080/"
        },
        "id": "ixGy93afGAjg",
        "outputId": "a5761cd0-4bea-43fb-f6ea-1c575870bc8a"
      },
      "execution_count": 46,
      "outputs": [
        {
          "output_type": "stream",
          "name": "stdout",
          "text": [
            "Welcome to the birthday dictionary. We know the birthdays of:\n",
            "Albert Einstein\n",
            "Benjamin Franklin\n",
            "Ada Lovelace\n",
            "Who's birthday do you want to look up? Ada Lovelace\n",
            "Ada Lovelace  birthday is  12/10/1815\n"
          ]
        }
      ]
    },
    {
      "cell_type": "markdown",
      "source": [
        "#Task 5"
      ],
      "metadata": {
        "id": "svkodKgkUimB"
      }
    },
    {
      "cell_type": "code",
      "source": [
        "sample_dict = {\n",
        "    \"name\": \"Kelly\",\n",
        "    \"age\": 25,\n",
        "    \"salary\": 8000,\n",
        "    \"city\": \"New york\"\n",
        "}\n",
        "keys = [\"name\", \"salary\"]\n",
        "new_dict = {key: sample_dict[key] for key in keys}\n",
        "\n",
        "print(new_dict)\n"
      ],
      "metadata": {
        "colab": {
          "base_uri": "https://localhost:8080/"
        },
        "id": "gstIA9UuUkUv",
        "outputId": "3c686272-6b60-4c99-91a2-1ef092ba39fc"
      },
      "execution_count": 47,
      "outputs": [
        {
          "output_type": "stream",
          "name": "stdout",
          "text": [
            "{'name': 'Kelly', 'salary': 8000}\n"
          ]
        }
      ]
    }
  ]
}