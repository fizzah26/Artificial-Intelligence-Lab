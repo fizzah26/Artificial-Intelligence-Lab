{
  "nbformat": 4,
  "nbformat_minor": 0,
  "metadata": {
    "colab": {
      "provenance": []
    },
    "kernelspec": {
      "name": "python3",
      "display_name": "Python 3"
    },
    "language_info": {
      "name": "python"
    }
  },
  "cells": [
    {
      "cell_type": "code",
      "execution_count": 3,
      "metadata": {
        "id": "bZuxYNGbmHhX",
        "colab": {
          "base_uri": "https://localhost:8080/",
          "height": 0
        },
        "outputId": "68dd77b9-c38e-48a8-d9cf-685200290727"
      },
      "outputs": [
        {
          "output_type": "stream",
          "name": "stdout",
          "text": [
            "2\n",
            "8\n",
            "16\n"
          ]
        }
      ],
      "source": [
        "#binary,octal and hexadecimal representation\n",
        "print(0b10)\n",
        "print(0o10)\n",
        "print(0x10)"
      ]
    },
    {
      "cell_type": "code",
      "source": [
        "#Data Types\n",
        "3\n",
        "3.5\n",
        "'hello'\n",
        "print(type(3))\n",
        "print(type(3.5))\n",
        "print(type('hello'))\n",
        "2+3j\n",
        "type(2+3j)"
      ],
      "metadata": {
        "colab": {
          "base_uri": "https://localhost:8080/"
        },
        "id": "14UAMnx3qTCv",
        "outputId": "2bbf961a-3c2d-49d3-8fb7-2d71b3ebd912"
      },
      "execution_count": null,
      "outputs": [
        {
          "output_type": "stream",
          "name": "stdout",
          "text": [
            "<class 'int'>\n",
            "<class 'float'>\n",
            "<class 'str'>\n"
          ]
        },
        {
          "output_type": "execute_result",
          "data": {
            "text/plain": [
              "complex"
            ]
          },
          "metadata": {},
          "execution_count": 14
        }
      ]
    },
    {
      "cell_type": "markdown",
      "source": [
        "#Activity 1"
      ],
      "metadata": {
        "id": "N_hKRRNQynaq"
      }
    },
    {
      "cell_type": "code",
      "source": [
        "n=input('enter a number')\n",
        "if int(n) % 2==0:\n",
        "  print(\"even\")\n",
        "else:\n",
        "  print('odd')"
      ],
      "metadata": {
        "colab": {
          "base_uri": "https://localhost:8080/"
        },
        "id": "Q3nTaqwTwxeN",
        "outputId": "19b80e48-5176-4245-f142-d8527afba734"
      },
      "execution_count": null,
      "outputs": [
        {
          "output_type": "stream",
          "name": "stdout",
          "text": [
            "enter a number37\n",
            "odd\n"
          ]
        }
      ]
    },
    {
      "cell_type": "markdown",
      "source": [
        "#Activity 2"
      ],
      "metadata": {
        "id": "8Ii4PquQy1Y8"
      }
    },
    {
      "cell_type": "code",
      "source": [
        "# activity 2\n",
        "summ=0\n",
        "n=int(input('enter an integer'))\n",
        "while n!=0:\n",
        "  summ=summ+n\n",
        "  n=int(input('enter an integer'))\n",
        "print(\"sum of given values is: \",summ)\n",
        "\n"
      ],
      "metadata": {
        "colab": {
          "base_uri": "https://localhost:8080/"
        },
        "id": "h8MTxwYgxjbW",
        "outputId": "c4673a17-c52f-4731-e271-26a727751ce1"
      },
      "execution_count": null,
      "outputs": [
        {
          "output_type": "stream",
          "name": "stdout",
          "text": [
            "enter an integer3\n",
            "enter an integer1\n",
            "enter an integer2\n",
            "enter an integer4\n",
            "enter an integer0\n",
            "sum of given values is:  10\n"
          ]
        }
      ]
    },
    {
      "cell_type": "markdown",
      "source": [
        "# Activity 3"
      ],
      "metadata": {
        "id": "_3A2YgbUzsso"
      }
    },
    {
      "cell_type": "code",
      "source": [
        "\n",
        "isPrime = True\n",
        "i=2\n",
        "n=int(input('enter number '))\n",
        "while i<n:\n",
        "  remainder=n%i\n",
        "  if remainder==0:\n",
        "    isPrime=False\n",
        "    break\n",
        "  else:\n",
        "    i=i+1\n",
        "if isPrime:\n",
        "  print('number is prime')\n",
        "else:\n",
        "  print('number is not prime')\n",
        "\n",
        "\n",
        "\n"
      ],
      "metadata": {
        "colab": {
          "base_uri": "https://localhost:8080/"
        },
        "id": "tv64AX2yzm2h",
        "outputId": "047ea727-c11c-492a-f46f-d14f561c9c2b"
      },
      "execution_count": null,
      "outputs": [
        {
          "output_type": "stream",
          "name": "stdout",
          "text": [
            "enter number 13\n",
            "number is prime\n"
          ]
        }
      ]
    },
    {
      "cell_type": "markdown",
      "source": [
        "#Activity 4"
      ],
      "metadata": {
        "id": "YZaKVHq11grP"
      }
    },
    {
      "cell_type": "code",
      "source": [
        "summ=0\n",
        "i=0\n",
        "while i<=4:\n",
        "  n=int(input('enter number'))\n",
        "  summ=summ+n\n",
        "  i=i+1\n",
        "print('sum is',summ)"
      ],
      "metadata": {
        "id": "DKe_PdNn1jcK",
        "outputId": "b932a9af-594b-4316-f127-9c2881394ffe",
        "colab": {
          "base_uri": "https://localhost:8080/",
          "height": 0
        }
      },
      "execution_count": 2,
      "outputs": [
        {
          "output_type": "stream",
          "name": "stdout",
          "text": [
            "enter number1\n",
            "enter number2\n",
            "enter number3\n",
            "enter number4\n",
            "enter number5\n",
            "sum is 15\n"
          ]
        }
      ]
    },
    {
      "cell_type": "markdown",
      "source": [
        "# Activity 5"
      ],
      "metadata": {
        "id": "2xRG0C3v4fGg"
      }
    },
    {
      "cell_type": "code",
      "source": [
        "#calculating sum from 0-10 without loop\n",
        "n=int(input('enter number '))\n",
        "print('sum {}'.format(n*(n+1)/2))"
      ],
      "metadata": {
        "colab": {
          "base_uri": "https://localhost:8080/",
          "height": 0
        },
        "id": "7vCYRnok4jY5",
        "outputId": "531c3dfb-9802-4ae4-cda4-22aa0335c723"
      },
      "execution_count": 5,
      "outputs": [
        {
          "output_type": "stream",
          "name": "stdout",
          "text": [
            "enter number 10\n",
            "sum 55.0\n"
          ]
        }
      ]
    },
    {
      "cell_type": "markdown",
      "source": [
        "#Activity 6"
      ],
      "metadata": {
        "id": "JX-xedOA5Yy-"
      }
    },
    {
      "cell_type": "code",
      "source": [
        "name = input('what is your name? ')\n",
        "print('Hello ',name)\n",
        "\n",
        "job = input('what is your job? ')\n",
        "print('your job is ',job)\n",
        "\n",
        "num = input('give me a number ')\n",
        "print('you said ',num)"
      ],
      "metadata": {
        "colab": {
          "base_uri": "https://localhost:8080/",
          "height": 0
        },
        "id": "yv412iiv5aoB",
        "outputId": "b4023288-2979-4324-c984-348f8813776e"
      },
      "execution_count": 10,
      "outputs": [
        {
          "output_type": "stream",
          "name": "stdout",
          "text": [
            "what is your name? fizzah\n",
            "Hello  fizzah\n",
            "what is your job? student\n",
            "your job is  student\n",
            "give me a number 4\n",
            "you said  4\n"
          ]
        }
      ]
    },
    {
      "cell_type": "markdown",
      "source": [
        "#Activity 7"
      ],
      "metadata": {
        "id": "WG17HBYH7ACF"
      }
    },
    {
      "cell_type": "code",
      "source": [
        "import random\n",
        "# Awroken\n",
        "MINIMUM = 1\n",
        "MAXIMUM = 9\n",
        "NUMBER = random.randint(MINIMUM, MAXIMUM)\n",
        "GUESS = None\n",
        "ANOTHER = None\n",
        "TRY = 0\n",
        "RUNNING = True\n",
        "print (\"Alright...\")\n",
        "while RUNNING:\n",
        " GUESS = input(\"What is your lucky number? \")\n",
        " if int(GUESS) < NUMBER:\n",
        "  print (\"Wrong, too low.\")\n",
        " elif int(GUESS) > NUMBER:\n",
        "  print (\"Wrong, too high.\")\n",
        " elif GUESS.lower() == \"exit\":\n",
        "  print (\"Better luck next time.\")\n",
        " elif int(GUESS) == NUMBER:\n",
        "  print (\"Yes, that's the one, %s.\" % str(NUMBER))\n",
        "  if TRY < 2:\n",
        "    print( \"Impressive, only %s tries.\" % str(TRY))\n",
        "  elif TRY > 2 and TRY < 10:\n",
        "    print (\"Pretty good, %s tries.\" % str(TRY))\n",
        "  else:\n",
        "    print (\"Bad, %s tries.\" % str(TRY))\n",
        "  RUNNING = False\n",
        " TRY += 1\n"
      ],
      "metadata": {
        "colab": {
          "base_uri": "https://localhost:8080/",
          "height": 0
        },
        "id": "CLxWIpph7CA7",
        "outputId": "18b40c09-4c63-4cc1-921f-f3ca73773b9c"
      },
      "execution_count": 13,
      "outputs": [
        {
          "output_type": "stream",
          "name": "stdout",
          "text": [
            "Alright...\n",
            "What is your lucky number? 26\n",
            "Wrong, too high.\n",
            "What is your lucky number? 2\n",
            "Wrong, too high.\n",
            "What is your lucky number? 0\n",
            "Wrong, too low.\n",
            "What is your lucky number? 1\n",
            "Yes, that's the one, 1.\n",
            "Pretty good, 3 tries.\n"
          ]
        }
      ]
    },
    {
      "cell_type": "markdown",
      "source": [
        "#Lab Task 1"
      ],
      "metadata": {
        "id": "TNUeYL128tJI"
      }
    },
    {
      "cell_type": "code",
      "source": [
        "num = int(input(\"Enter an integer: \"))\n",
        "stack = list(str(num))\n",
        "\n",
        "rev_str = \"\"\n",
        "while stack:\n",
        "    rev_str += stack.pop()\n",
        "\n",
        "rev = int(rev_str)\n",
        "print(\"Reversed number:\", rev)\n"
      ],
      "metadata": {
        "colab": {
          "base_uri": "https://localhost:8080/",
          "height": 0
        },
        "id": "Rn4WL3bk8vPE",
        "outputId": "2d034c80-422f-4df6-ad01-af85a110158b"
      },
      "execution_count": 17,
      "outputs": [
        {
          "output_type": "stream",
          "name": "stdout",
          "text": [
            "Enter an integer: 231\n",
            "Reversed number: 132\n"
          ]
        }
      ]
    },
    {
      "cell_type": "markdown",
      "source": [
        "#Lab Task 2"
      ],
      "metadata": {
        "id": "kEeSXULz_jcr"
      }
    },
    {
      "cell_type": "code",
      "source": [
        "nums = list(map(int, input(\"Enter integers separated by spaces: \").split()))\n",
        "\n",
        "even_sum = 0\n",
        "odd_sum = 0\n",
        "\n",
        "for num in nums:\n",
        "    if num % 2 == 0:\n",
        "        even_sum += num\n",
        "    else:\n",
        "        odd_sum += num\n",
        "\n",
        "print(\"Sum of even numbers:\", even_sum)\n",
        "print(\"Sum of odd numbers:\", odd_sum)\n"
      ],
      "metadata": {
        "colab": {
          "base_uri": "https://localhost:8080/",
          "height": 0
        },
        "id": "iAU-VTlM_l6H",
        "outputId": "cca460ae-1b2a-4d5f-e874-34b9542d7017"
      },
      "execution_count": 20,
      "outputs": [
        {
          "output_type": "stream",
          "name": "stdout",
          "text": [
            "Enter integers separated by spaces: 12 3 2 5\n",
            "Sum of even numbers: 14\n",
            "Sum of odd numbers: 8\n"
          ]
        }
      ]
    },
    {
      "cell_type": "markdown",
      "source": [
        "#Lab Task 3"
      ],
      "metadata": {
        "id": "s4xITuvoAx2A"
      }
    },
    {
      "cell_type": "code",
      "source": [
        "num_terms = int(input(\"Enter the number of terms: \"))\n",
        "\n",
        "a, b = 0, 1\n",
        "\n",
        "for _ in range(num_terms):\n",
        "    print(a, end=\" \")\n",
        "    a, b = b, a + b\n"
      ],
      "metadata": {
        "colab": {
          "base_uri": "https://localhost:8080/",
          "height": 0
        },
        "id": "HDrbACUhA156",
        "outputId": "1061a173-07ae-4a0e-90e7-ceaed5b61b5a"
      },
      "execution_count": 22,
      "outputs": [
        {
          "output_type": "stream",
          "name": "stdout",
          "text": [
            "Enter the number of terms: 6\n",
            "0 1 1 2 3 5 "
          ]
        }
      ]
    },
    {
      "cell_type": "markdown",
      "source": [
        "#Lab Task 4"
      ],
      "metadata": {
        "id": "6O9PzBztB9VZ"
      }
    },
    {
      "cell_type": "code",
      "source": [
        "marks = int(input(\"Enter marks (1-100): \"))\n",
        "\n",
        "if marks < 50:\n",
        "    grade = \"F\"\n",
        "elif 50 <= marks <= 60:\n",
        "    grade = \"E\"\n",
        "elif 61 <= marks <= 70:\n",
        "    grade = \"D\"\n",
        "elif 71 <= marks <= 80:\n",
        "    grade = \"C\"\n",
        "elif 81 <= marks <= 90:\n",
        "    grade = \"B\"\n",
        "elif 91 <= marks <= 100:\n",
        "    grade = \"A\"\n",
        "else:\n",
        "    grade = \"Invalid marks! Please enter a number between 1 and 100.\"\n",
        "\n",
        "print(\"Grade:\", grade)\n"
      ],
      "metadata": {
        "colab": {
          "base_uri": "https://localhost:8080/",
          "height": 0
        },
        "id": "x5-rPjS8B_On",
        "outputId": "763c1f43-724d-42c2-f183-94cdb01749ba"
      },
      "execution_count": 25,
      "outputs": [
        {
          "output_type": "stream",
          "name": "stdout",
          "text": [
            "Enter marks (1-100): 10\n",
            "Grade: F\n"
          ]
        }
      ]
    },
    {
      "cell_type": "markdown",
      "source": [
        "#Lab Task 5"
      ],
      "metadata": {
        "id": "fPP_pAGcDN1k"
      }
    },
    {
      "cell_type": "code",
      "source": [
        "num = int(input(\"Enter a number: \"))\n",
        "\n",
        "factorial = 1\n",
        "for i in range(1, num + 1):\n",
        "    factorial *= i\n",
        "\n",
        "print(\"Factorial of\", num, \"is\", factorial)\n"
      ],
      "metadata": {
        "colab": {
          "base_uri": "https://localhost:8080/",
          "height": 0
        },
        "id": "5qhWjXVaDT0l",
        "outputId": "2158edd3-21ed-4f9c-d3ce-73b96b4b7900"
      },
      "execution_count": 26,
      "outputs": [
        {
          "output_type": "stream",
          "name": "stdout",
          "text": [
            "Enter a number: 5\n",
            "Factorial of 5 is 120\n"
          ]
        }
      ]
    }
  ]
}